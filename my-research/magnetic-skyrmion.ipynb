{
 "cells": [
  {
   "cell_type": "markdown",
   "id": "c0adc5fc-5844-480a-a4ef-9a2d29d4ec27",
   "metadata": {},
   "source": [
    "# My research project: Search for a magnetic skyrmion\n",
    "\n",
    "We begin this study by importing the simulation package we developed. Its name is `mcsim`."
   ]
  },
  {
   "cell_type": "code",
   "execution_count": null,
   "id": "e2f99f92-8d35-4cfb-b5d9-d53998d36787",
   "metadata": {},
   "outputs": [],
   "source": [
    "import mcsim"
   ]
  },
  {
   "cell_type": "markdown",
   "id": "3e2d4d5b-d259-46b2-adde-7e8b1aa6d448",
   "metadata": {},
   "source": [
    "## Simulation\n",
    "\n",
    "We will create a `system` object to uniquely describe the magnetic system we want to simulate.\n",
    "- For the external magnetic field, we will apply $\\mathbf{B} = (0, 0, 0.1)$\n",
    "- Uniaxial anisotropy parameter $K$ we obtained from experimental measurements is $K=0.01$ and the anisotropy axis is $\\mathbf{u} = (0, 0, 1)$\n",
    "- In literature, we found that the exchange energy constant is $J=0.5$.\n",
    "- Based on the measurements of the helical period, we will use the Dzyaloshinkii-Moriya constant to be $D=0.5$.\n",
    "\n",
    "We will simulate annealing, which means we will begin from a random configuration on a $10 \\times 10$ 2D lattice."
   ]
  },
  {
   "cell_type": "code",
   "execution_count": null,
   "id": "c4c3c966-1526-425f-944a-649c39be0fd9",
   "metadata": {},
   "outputs": [],
   "source": [
    "s = mcsim.Spins(n=(10, 10))\n",
    "s.randomise()\n",
    "\n",
    "system = mcsim.System(s=s, B=(0, 0, 0.1), K=0.01, u=(0, 0, 1), J=0.5, D=0.5)"
   ]
  },
  {
   "cell_type": "markdown",
   "id": "4ff49694-c173-41c3-8ed9-b116dc29827d",
   "metadata": {},
   "source": [
    "The system object is now defined and we can perform the energy minimisation using Metropolis Monte Carlo algorithm. We will run $n=10^5$ iterations."
   ]
  },
  {
   "cell_type": "code",
   "execution_count": null,
   "id": "6e319770-14ea-48cf-bc03-f8b1bc6342f9",
   "metadata": {},
   "outputs": [],
   "source": [
    "driver = mcsim.Driver()\n",
    "driver.drive(system, n=10_000)"
   ]
  },
  {
   "cell_type": "markdown",
   "id": "cf99c186-bc7f-4066-8a2d-77bfacab5ea7",
   "metadata": {},
   "source": [
    "## Analysis"
   ]
  },
  {
   "cell_type": "markdown",
   "id": "e61499f6-c2f8-4854-8211-ea961f77ff97",
   "metadata": {},
   "source": [
    "The mean spin of the final state is"
   ]
  },
  {
   "cell_type": "code",
   "execution_count": null,
   "id": "4e195f4b-3b05-4cf0-befc-2afade11f242",
   "metadata": {},
   "outputs": [],
   "source": [
    "system.s.mean"
   ]
  },
  {
   "cell_type": "markdown",
   "id": "b4fbbb0d-cb28-43ec-beb7-318898953306",
   "metadata": {},
   "source": [
    "The plot is"
   ]
  },
  {
   "cell_type": "code",
   "execution_count": null,
   "id": "531b3c9f-e980-442e-9e07-7c9f79a4d8ab",
   "metadata": {},
   "outputs": [],
   "source": [
    "system.s.plot()"
   ]
  }
 ],
 "metadata": {
  "kernelspec": {
   "display_name": "Python 3 (ipykernel)",
   "language": "python",
   "name": "python3"
  },
  "language_info": {
   "codemirror_mode": {
    "name": "ipython",
    "version": 3
   },
   "file_extension": ".py",
   "mimetype": "text/x-python",
   "name": "python",
   "nbconvert_exporter": "python",
   "pygments_lexer": "ipython3",
   "version": "3.11.5"
  }
 },
 "nbformat": 4,
 "nbformat_minor": 5
}
